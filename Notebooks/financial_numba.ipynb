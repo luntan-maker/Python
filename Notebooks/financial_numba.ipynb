{
 "cells": [
  {
   "cell_type": "code",
   "execution_count": 3,
   "metadata": {},
   "outputs": [],
   "source": [
    "import numpy as np\n",
    "from numba import njit, jit\n",
    "import matplotlib.pyplot as plt\n",
    "import time"
   ]
  },
  {
   "cell_type": "markdown",
   "metadata": {},
   "source": [
    "@njit\n",
    "    @jit(nopython=True)\n",
    "@jit\n",
    "    decorator, marks for optimization\n",
    "nopython\n",
    "    prevents error raising\n",
    "object\n",
    "    alternative to nopython, much faster\n",
    "nogil\n",
    "    releases global interpreter lock\n",
    "cache\n",
    "    write the result to a file based cache\n",
    "parallel\n",
    "    enables parallelization for supported operations\n",
    "@generated_jit\n",
    "    alternative to @jit for picking specialized funciton on input types.\n",
    "@stencil:\n",
    "    Deals with array elements and fixed patterns\n"
   ]
  },
  {
   "cell_type": "code",
   "execution_count": 4,
   "metadata": {},
   "outputs": [],
   "source": [
    "#Source: https://financeformulas.net/Future_Value_of_Annuity.html\n",
    "#When lost: https://numba.pydata.org/numba-doc/latest/user/5minguide.html\n",
    "def apy(r,n):\n",
    "    return -1+(1+ r/n)**n"
   ]
  },
  {
   "cell_type": "code",
   "execution_count": 5,
   "metadata": {},
   "outputs": [],
   "source": [
    "#Fastmath makes it faster, but parallel slows the function down.\n",
    "@jit(fastmath=True)\n",
    "def apy2(r,n):\n",
    "    return -1+(1+ r/n)**n"
   ]
  },
  {
   "cell_type": "code",
   "execution_count": 154,
   "metadata": {},
   "outputs": [],
   "source": [
    "#Given a function that takes two inputs measure the amount of time it \n",
    "# takes to run 10, 100, and 1000 times and print results out.\n",
    "def counter_1(func, *argv):\n",
    "    k = 10\n",
    "    ret_arr = []\n",
    "    for j in range(5):\n",
    "        start = time.process_time()\n",
    "        for i in range(k):\n",
    "            func(argv[0])\n",
    "        ret_arr.append(time.process_time() - start)\n",
    "        k*=10\n",
    "    return ret_arr\n",
    "\n",
    "def counter_2(func, *argv):\n",
    "    k = 10\n",
    "    ret_arr = []\n",
    "    for j in range(5):\n",
    "        start = time.process_time()\n",
    "        for i in range(k):\n",
    "            func(argv[0],argv[1])\n",
    "        ret_arr.append(time.process_time() - start)\n",
    "        k*=10\n",
    "    return ret_arr\n",
    "\n",
    "\n",
    "def counter_3(func, *argv):\n",
    "    k = 10\n",
    "    ret_arr = []\n",
    "    for j in range(5):\n",
    "        start = time.process_time()\n",
    "        for i in range(k):\n",
    "            func(argv[0],argv[1],argv[2])\n",
    "        ret_arr.append(time.process_time() - start)\n",
    "        k*=10\n",
    "    return ret_arr"
   ]
  },
  {
   "cell_type": "code",
   "execution_count": 155,
   "metadata": {},
   "outputs": [],
   "source": [
    "# var_num = .123456\n",
    "var_num = 3\n",
    "regular_apy = counter_2(apy, var_num, var_num)\n",
    "jit_apy = counter_2(apy2, var_num, var_num)"
   ]
  },
  {
   "cell_type": "code",
   "execution_count": 156,
   "metadata": {},
   "outputs": [
    {
     "data": {
      "image/png": "[encoded data removed]",
      "text/plain": [
       "<Figure size 432x288 with 1 Axes>"
      ]
     },
     "metadata": {
      "needs_background": "light"
     },
     "output_type": "display_data"
    }
   ],
   "source": [
    "plt.plot(regular_apy)\n",
    "plt.plot(jit_apy)\n",
    "plt.show()"
   ]
  },
  {
   "cell_type": "markdown",
   "metadata": {},
   "source": [
    "Fastmath gives a decent speedup, but nothing crazy."
   ]
  },
  {
   "cell_type": "code",
   "execution_count": 157,
   "metadata": {},
   "outputs": [],
   "source": [
    "def FV_annu(P, r, n):\n",
    "    for i in range(100):\n",
    "        l = P*(-1+(1+r)**n)/r"
   ]
  },
  {
   "cell_type": "code",
   "execution_count": 158,
   "metadata": {},
   "outputs": [],
   "source": [
    "@njit#(cache=True, fastmath=True)\n",
    "def FV_annu2(P, r, n):\n",
    "    for i in range(100):\n",
    "        l = P*(-1+(1+r)**n)/r"
   ]
  },
  {
   "cell_type": "code",
   "execution_count": 159,
   "metadata": {},
   "outputs": [],
   "source": [
    "var_num = .123456\n",
    "regular_apy = counter_3(FV_annu, var_num, var_num, var_num)\n",
    "jit_apy = counter_3(FV_annu2, var_num, var_num, var_num)\n"
   ]
  },
  {
   "cell_type": "code",
   "execution_count": 160,
   "metadata": {},
   "outputs": [
    {
     "data": {
      "image/png": "[encoded data removed]",
      "text/plain": [
       "<Figure size 432x288 with 1 Axes>"
      ]
     },
     "metadata": {
      "needs_background": "light"
     },
     "output_type": "display_data"
    }
   ],
   "source": [
    "plt.plot(regular_apy)\n",
    "plt.plot(jit_apy)\n",
    "plt.show()"
   ]
  },
  {
   "cell_type": "markdown",
   "metadata": {},
   "source": [
    "So with a loop we can see that the function is taking constant time."
   ]
  },
  {
   "cell_type": "code",
   "execution_count": 167,
   "metadata": {},
   "outputs": [
    {
     "data": {
      "text/plain": [
       "-1.0000000000592966"
      ]
     },
     "execution_count": 167,
     "metadata": {},
     "output_type": "execute_result"
    }
   ],
   "source": [
    "def func( x ): \n",
    "    return x * x * x - x * x + 2\n",
    "\n",
    "def derivFunc( x ): \n",
    "    return 3 * x * x - 2 * x\n",
    "\n",
    "def newtonRaphson( x ): \n",
    "    h = func(x) / derivFunc(x) \n",
    "    while abs(h) >= 0.0001: \n",
    "        h = func(x)/derivFunc(x) \n",
    "        x = x - h \n",
    "    return x\n",
    "@jit(fastmath=True)\n",
    "def newtonRaphson2( x ): \n",
    "    h = (x * x * x - x * x + 2)/(3 * x * x - 2 * x) \n",
    "    while abs(h) >= 0.0001: \n",
    "        h = (x * x * x - x * x + 2)/(3 * x * x - 2 * x) \n",
    "        x = x - h \n",
    "    return x\n",
    "newtonRaphson(-.123456)"
   ]
  },
  {
   "cell_type": "code",
   "execution_count": 170,
   "metadata": {},
   "outputs": [],
   "source": [
    "var_num = .123456\n",
    "regular_apy = counter_1(newtonRaphson, var_num)\n",
    "jit_apy = counter_1(newtonRaphson2, var_num)\n"
   ]
  },
  {
   "cell_type": "code",
   "execution_count": 171,
   "metadata": {},
   "outputs": [
    {
     "data": {
      "image/png": "[encoded data removed]",
      "text/plain": [
       "<Figure size 432x288 with 1 Axes>"
      ]
     },
     "metadata": {
      "needs_background": "light"
     },
     "output_type": "display_data"
    }
   ],
   "source": [
    "plt.plot(regular_apy)\n",
    "plt.plot(jit_apy)\n",
    "plt.show()"
   ]
  },
  {
   "cell_type": "markdown",
   "metadata": {},
   "source": [
    "The newtonRaphson stuff was copied from 'https://www.geeksforgeeks.org/program-for-newton-raphson-method/'. By the third tick the compilation phase in the first tick has paid for itself. Why bother with vectorization and numpy?\n",
    "I wish you could start compilation in a separate parallel thread so you can avoid some of the first tick cost."
   ]
  }
 ],
 "metadata": {
  "kernelspec": {
   "display_name": "Python 3",
   "language": "python",
   "name": "python3"
  },
  "language_info": {
   "codemirror_mode": {
    "name": "ipython",
    "version": 3
   },
   "file_extension": ".py",
   "mimetype": "text/x-python",
   "name": "python",
   "nbconvert_exporter": "python",
   "pygments_lexer": "ipython3",
   "version": "3.6.10"
  },
  "toc": {
   "base_numbering": 1,
   "nav_menu": {},
   "number_sections": false,
   "sideBar": false,
   "skip_h1_title": false,
   "title_cell": "Table of Contents",
   "title_sidebar": "Contents",
   "toc_cell": false,
   "toc_position": {},
   "toc_section_display": false,
   "toc_window_display": false
  }
 },
 "nbformat": 4,
 "nbformat_minor": 4
}
